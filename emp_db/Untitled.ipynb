{
 "cells": [
  {
   "cell_type": "code",
   "execution_count": 1,
   "id": "4516b7fc",
   "metadata": {},
   "outputs": [
    {
     "name": "stdout",
     "output_type": "stream",
     "text": [
      "welcome to Employee system\n",
      "Please Enter Login id : admin\n",
      "Please Enter Password:admin\n",
      "welcome to admin\n",
      "enter 1 to add employee\n",
      "enter 2 to remove\n",
      "enter 3 to add hr\n",
      "enter 4 to remove hr\n",
      "enter q to exit\n",
      "enter your option : 1\n",
      "employee id :123\n",
      "employee name :Palash Aich\n",
      "employee DOJ :29/01/2020\n",
      "employee desigination :Electrical Engineering\n",
      "employee salary :200000\n",
      "Employee added sucessfully\n",
      "welcome to admin\n",
      "enter 1 to add employee\n",
      "enter 2 to remove\n",
      "enter 3 to add hr\n",
      "enter 4 to remove hr\n",
      "enter q to exit\n",
      "enter your option : 1\n",
      "employee id :123\n",
      "employee name :kslfkjsa\n",
      "employee DOJ :jlndflk\n",
      "employee desigination :ojsefjs\n",
      "employee salary :lknslkef\n",
      "Employee added sucessfully\n",
      "welcome to admin\n",
      "enter 1 to add employee\n",
      "enter 2 to remove\n",
      "enter 3 to add hr\n",
      "enter 4 to remove hr\n",
      "enter q to exit\n",
      "enter your option : q\n"
     ]
    }
   ],
   "source": [
    "import login"
   ]
  },
  {
   "cell_type": "code",
   "execution_count": null,
   "id": "e6541030",
   "metadata": {},
   "outputs": [],
   "source": []
  }
 ],
 "metadata": {
  "kernelspec": {
   "display_name": "Python 3 (ipykernel)",
   "language": "python",
   "name": "python3"
  },
  "language_info": {
   "codemirror_mode": {
    "name": "ipython",
    "version": 3
   },
   "file_extension": ".py",
   "mimetype": "text/x-python",
   "name": "python",
   "nbconvert_exporter": "python",
   "pygments_lexer": "ipython3",
   "version": "3.9.7"
  }
 },
 "nbformat": 4,
 "nbformat_minor": 5
}
